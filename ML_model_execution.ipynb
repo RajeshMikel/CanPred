{
 "cells": [
  {
   "cell_type": "code",
   "execution_count": 1,
   "id": "39fc9450",
   "metadata": {},
   "outputs": [
    {
     "name": "stdout",
     "output_type": "stream",
     "text": [
      "Praise the Lord\n"
     ]
    }
   ],
   "source": [
    "print(\"Praise the Lord\")"
   ]
  },
  {
   "cell_type": "code",
   "execution_count": 31,
   "id": "f15e5ca3",
   "metadata": {},
   "outputs": [],
   "source": [
    "# !pip install voila"
   ]
  },
  {
   "cell_type": "code",
   "execution_count": 8,
   "id": "5da44e19",
   "metadata": {},
   "outputs": [],
   "source": [
    "import pandas as pd\n",
    "import numpy as np\n",
    "import joblib\n",
    "import io\n",
    "import warnings\n",
    "warnings.filterwarnings('ignore')"
   ]
  },
  {
   "cell_type": "code",
   "execution_count": 9,
   "id": "57e8ee58",
   "metadata": {},
   "outputs": [],
   "source": [
    "# inp_df = pd.read_excel('./content/Sample_Input.xlsx')"
   ]
  },
  {
   "cell_type": "code",
   "execution_count": 38,
   "id": "ec45577d",
   "metadata": {},
   "outputs": [],
   "source": [
    "from ipywidgets import FileUpload, Label, Layout, HBox, Button, Output, VBox\n",
    "from IPython.display import display, clear_output"
   ]
  },
  {
   "cell_type": "code",
   "execution_count": 30,
   "id": "ab340614",
   "metadata": {},
   "outputs": [
    {
     "name": "stderr",
     "output_type": "stream",
     "text": [
      "Enabling: voila\n",
      "- Writing config: D:\\Rajesh\\anaconda3\\etc\\jupyter\n",
      "    - Validating...\n",
      "      voila 0.5.5 ok\n"
     ]
    }
   ],
   "source": [
    "# We need to enable the extensions to be properly displayed on the notebook:\n",
    "# !jupyter nbextension enable --py widgetsnbextension --sys-prefix\n",
    "# !jupyter serverextension enable voila --sys-prefix"
   ]
  },
  {
   "cell_type": "code",
   "execution_count": 27,
   "id": "c603b3a7",
   "metadata": {},
   "outputs": [
    {
     "data": {
      "application/vnd.jupyter.widget-view+json": {
       "model_id": "22ac3a08ac564ccda9f3f29fa8d9bddd",
       "version_major": 2,
       "version_minor": 0
      },
      "text/plain": [
       "HBox(children=(Label(value='Upload the input file using the button below', layout=Layout(border_bottom='solid'…"
      ]
     },
     "metadata": {},
     "output_type": "display_data"
    }
   ],
   "source": [
    "y = Label(\"Upload the input file using the button below\", layout=Layout(display=\"flex\", justify_content=\"center\", width=\"60%\", border=\"solid\"))\n",
    "display(HBox([y]))"
   ]
  },
  {
   "cell_type": "code",
   "execution_count": 5,
   "id": "434fb1b8",
   "metadata": {},
   "outputs": [
    {
     "data": {
      "application/vnd.jupyter.widget-view+json": {
       "model_id": "1c697a5e872b47c59c49b5237e223605",
       "version_major": 2,
       "version_minor": 0
      },
      "text/plain": [
       "FileUpload(value=(), accept='.xlsx', description='Upload')"
      ]
     },
     "metadata": {},
     "output_type": "display_data"
    }
   ],
   "source": [
    "uploader = FileUpload(accept='.xlsx', multiple=False)\n",
    "display(uploader)\n"
   ]
  },
  {
   "cell_type": "code",
   "execution_count": 45,
   "id": "172748b8",
   "metadata": {},
   "outputs": [
    {
     "data": {
      "application/vnd.jupyter.widget-view+json": {
       "model_id": "0e9d31a587434ea380022a9c1d758b44",
       "version_major": 2,
       "version_minor": 0
      },
      "text/plain": [
       "VBox(children=(Button(description='Make Prediction', style=ButtonStyle(), tooltip='Send'), Output()))"
      ]
     },
     "metadata": {},
     "output_type": "display_data"
    }
   ],
   "source": [
    "button_send = Button(\n",
    "                description='Make Prediction',\n",
    "                tooltip='Send',\n",
    "                style={'description_width': 'initial'}\n",
    "            )\n",
    "\n",
    "output = Output()\n",
    "\n",
    "def on_button_clicked(event):\n",
    "    with output:\n",
    "        clear_output()\n",
    "        res=make_prediction()\n",
    "        print(res)\n",
    "        print(\"Button Clicked\")\n",
    "\n",
    "button_send.on_click(on_button_clicked)\n",
    "vbox_result = VBox([button_send, output])\n",
    "display(vbox_result)\n",
    "\n",
    "# display(button_send)"
   ]
  },
  {
   "cell_type": "code",
   "execution_count": 40,
   "id": "f8ec23f8",
   "metadata": {},
   "outputs": [],
   "source": [
    "def make_prediction():\n",
    "    # Read the selected features file\n",
    "    data_df = pd.read_csv('./content/only_selected_features.csv')\n",
    "    \n",
    "    # Read the input file\n",
    "    input_file = uploader.value[0]\n",
    "    content = input_file['content']\n",
    "    content = io.BytesIO(content)\n",
    "    inp_df = pd.read_excel(content)\n",
    "    \n",
    "    # Merge input file with the features file and select only the required columns\n",
    "    inp_merge_df = inp_df.merge(data_df,how='left',on=['Gene Name', 'Site'])\n",
    "    sel_cols = ['Ht_normalize_site_value', 'Hp_normalize', 'Bl_normalize_site_value', 'Rf_normalize_site_value', 'aM_normalize',\n",
    "    's_normalize_site_value', 'GRAR740102_normalize_site_value', 'ISOY800102_normalize', 'JUKT750101_normalize_site_value',\n",
    "    'JUKT750101_normalize', 'KARP850101_normalize_site_value', 'MAXF760106_normalize_site_value', \n",
    "    'RACS820113_normalize_site_value', 'FASG760102_normalize_site_value', 'residue exposure', 'KABAT', 'JORES',\n",
    "    'TAYLOR_NO_GAPS', 'VELIBIL', 'KARLIN', 'pssm_score2', 'conservation', 'S_containing', 'aliphatic', 'M_c_odds_ratio',\n",
    "    'tri_odds_ratio']\n",
    "    model_inp_df = inp_merge_df[sel_cols] \n",
    "    \n",
    "    # Load the model\n",
    "    clf = joblib.load('canpred_model')\n",
    "    \n",
    "    # Get the prediction probabilities\n",
    "    pred_res = pd.DataFrame(clf.predict_proba(model_inp_df)[:,1])\n",
    "    \n",
    "    # Derive prediction results\n",
    "    pred_res.rename(columns={0: 'Probability'}, inplace=True)\n",
    "    pred_res['Prediction'] = ['Disease' if x > 0.5 else 'Neutral' for x in pred_res['Probability']]\n",
    "    pred_res['Seq'] = np.arange(1, pred_res.shape[0] + 1)\n",
    "    inp_df['Seq'] = np.arange(1, inp_df.shape[0] + 1)\n",
    "    outp_df = inp_df.merge(pred_res,how='left')\n",
    "    outp_df.drop(columns=['Seq'], inplace=True)\n",
    "    \n",
    "    # Output the prediction results\n",
    "    return(outp_df)"
   ]
  },
  {
   "cell_type": "code",
   "execution_count": 19,
   "id": "92eb8900",
   "metadata": {},
   "outputs": [],
   "source": [
    "# outp_df.to_excel('.\\content\\Sample_Output.xlsx',index=False)"
   ]
  },
  {
   "cell_type": "code",
   "execution_count": 46,
   "id": "130a3e41",
   "metadata": {},
   "outputs": [
    {
     "name": "stdout",
     "output_type": "stream",
     "text": [
      "Hallelujah!\n"
     ]
    }
   ],
   "source": [
    "print(\"Hallelujah!\")"
   ]
  }
 ],
 "metadata": {
  "kernelspec": {
   "display_name": "Python 3 (ipykernel)",
   "language": "python",
   "name": "python3"
  },
  "language_info": {
   "codemirror_mode": {
    "name": "ipython",
    "version": 3
   },
   "file_extension": ".py",
   "mimetype": "text/x-python",
   "name": "python",
   "nbconvert_exporter": "python",
   "pygments_lexer": "ipython3",
   "version": "3.8.5"
  }
 },
 "nbformat": 4,
 "nbformat_minor": 5
}
